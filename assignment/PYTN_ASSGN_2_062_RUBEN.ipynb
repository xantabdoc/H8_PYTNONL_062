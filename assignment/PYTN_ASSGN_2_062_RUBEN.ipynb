{
  "nbformat": 4,
  "nbformat_minor": 0,
  "metadata": {
    "kernelspec": {
      "display_name": "Python 3",
      "language": "python",
      "name": "python3"
    },
    "language_info": {
      "codemirror_mode": {
        "name": "ipython",
        "version": 3
      },
      "file_extension": ".py",
      "mimetype": "text/x-python",
      "name": "python",
      "nbconvert_exporter": "python",
      "pygments_lexer": "ipython3",
      "version": "3.8.5"
    },
    "toc": {
      "base_numbering": 1,
      "nav_menu": {},
      "number_sections": true,
      "sideBar": true,
      "skip_h1_title": false,
      "title_cell": "Table of Contents",
      "title_sidebar": "Contents",
      "toc_cell": false,
      "toc_position": {},
      "toc_section_display": true,
      "toc_window_display": false
    },
    "colab": {
      "name": "PYTN_ASSGN_2_062_RUBEN.ipynb",
      "provenance": [],
      "collapsed_sections": [],
      "include_colab_link": true
    }
  },
  "cells": [
    {
      "cell_type": "markdown",
      "metadata": {
        "id": "view-in-github",
        "colab_type": "text"
      },
      "source": [
        "<a href=\"https://colab.research.google.com/github/xantabdoc/H8_PYTNONL_062/blob/main/assignment/PYTN_ASSGN_2_062_RUBEN.ipynb\" target=\"_parent\"><img src=\"https://colab.research.google.com/assets/colab-badge.svg\" alt=\"Open In Colab\"/></a>"
      ]
    },
    {
      "cell_type": "markdown",
      "metadata": {
        "id": "hteD2wLI9V6P"
      },
      "source": [
        "<img src = \"https://global-uploads.webflow.com/5f0d53c042a9ed6288de7f8d/5f6337ae2cfaa10946ceeb06_Hacktiv8%20logo%20horizontal%2001%20black-p-500.png\" width = 400>\n",
        "<h1 align=center><font size = 5>Hacktiv8 PTP Introduction to Data Science Projects 2 // Statistical Treatment for Datasets</font></h1>"
      ]
    },
    {
      "cell_type": "markdown",
      "metadata": {
        "id": "crHlQZLn9V6R"
      },
      "source": [
        "Title: Hacktiv8 PTP Introduction to Data Science Projects 2: Statistical Treatment for Datasets Starter Notebook\\\n",
        "Last Updated: September 20, 2020\\\n",
        "Author: Raka Ardhi"
      ]
    },
    {
      "cell_type": "markdown",
      "metadata": {
        "id": "6WAc9Cwf9V6R"
      },
      "source": [
        "## NYC Property Sales Introduction\n",
        "\n",
        "The aim of this projects is to introduce you to practical statistic with Python as concrete and as consistent as possible. Using what you’ve learned; download the NYC Property Sales Dataset from Kaggle. This dataset is a record of every building or building unit (apartment, etc.) sold in the New York City property market over a 12-month period.\n",
        "\n",
        "This dataset contains the location, address, type, sale price, and sale date of building units sold. A reference on the trickier fields:\n",
        "\n",
        "* `BOROUGH`: A digit code for the borough the property is located in; in order these are Manhattan (1), Bronx (2), Brooklyn (3), Queens (4), and Staten Island (5).\n",
        "* `BLOCK`; `LOT`: The combination of borough, block, and lot forms a unique key for property in New York City. Commonly called a BBL.\n",
        "* `BUILDING CLASS AT PRESENT` and `BUILDING CLASS AT TIME OF SALE`: The type of building at various points in time.\n",
        "\n",
        "Note that because this is a financial transaction dataset, there are some points that need to be kept in mind:\n",
        "\n",
        "* Many sales occur with a nonsensically small dollar amount: $0 most commonly. These sales are actually transfers of deeds between parties: for example, parents transferring ownership to their home to a child after moving out for retirement.\n",
        "* This dataset uses the financial definition of a building/building unit, for tax purposes. In case a single entity owns the building in question, a sale covers the value of the entire building. In case a building is owned piecemeal by its residents (a condominium), a sale refers to a single apartment (or group of apartments) owned by some individual.\n",
        "\n",
        "Formulate a question and derive a statistical hypothesis test to answer the question. You have to demonstrate that you’re able to make decisions using data in a scientific manner. Examples of questions can be:\n",
        "\n",
        "* Is there a difference in unit sold between property built in 1900-2000 and 2001 so on?\n",
        "* Is there a difference in unit sold based on building category?\n",
        "* What can you discover about New York City real estate by looking at a year's worth of raw transaction records? Can you spot trends in the market?\n",
        "\n",
        "Please make sure that you have completed the lesson for this course, namely Python and Practical Statistics which is part of this Program.\n",
        "\n",
        "**Note:** You can take a look at Project Rubric below:\n",
        "\n",
        "| Code Review |  |\n",
        "| :--- | :--- |\n",
        "| CRITERIA | SPECIFICATIONS |\n",
        "| Mean | Student implement mean to specifics column/data using pandas, numpy, or scipy|\n",
        "| Median | Student implement median to specifics column/data using pandas, numpy, or scipy|\n",
        "| Modus | Student implement modus to specifics column/data using pandas, numpy, or scipy|\n",
        "| Central Tendencies | Implementing Central Tendencies through dataset |\n",
        "| Box Plot | Implementing Box Plot to visualize spesific data |\n",
        "| Z-Score | Implementing Z-score concept to specific data |\n",
        "| Probability Distribution | Student analyzing distribution of data and gain insight from the distribution |\n",
        "| Intervals | Implementing Confidence or Prediction Intervals |\n",
        "| Hypotesis Testing | Made 1 Hypotesis and get conclusion from data |\n",
        "| Preprocessing | Student preprocess dataset before applying the statistical treatment. |\n",
        "| Does the code run without errors? | The code runs without errors. All code is functional and formatted properly. |\n",
        "\n",
        "| Readability |  |\n",
        "| :--- | :--- |\n",
        "| CRITERIA | SPECIFICATIONS |\n",
        "| Well Documented | All cell in notebook are well documented with markdown above each cell explaining the code|\n",
        "\n",
        "| Analysis |  |\n",
        "| :--- | :--- |\n",
        "| CRITERIA | SPECIFICATIONS |\n",
        "|Overall Analysis| Gain an insight/conclusion of overall plots that answer the hypotesis |\n",
        "\n",
        "**Focus on \"Graded-Function\" sections.**\n",
        "\n",
        "------------"
      ]
    },
    {
      "cell_type": "markdown",
      "metadata": {
        "id": "cCb4y-ab9V6T"
      },
      "source": [
        "## Data Preparation\n",
        "\n",
        "Load the library you need.\n",
        "\n",
        "Get your NYC property data from [here](https://www.kaggle.com/new-york-city/nyc-property-sales) and load the dataframe to your notebook."
      ]
    },
    {
      "cell_type": "code",
      "metadata": {
        "id": "vKOB1Q1V9V6U",
        "colab": {
          "base_uri": "https://localhost:8080/"
        },
        "outputId": "dfd7bba3-14a5-427f-86ba-28ce63766667"
      },
      "source": [
        "# Get your import statement here\n",
        "import math\n",
        "import statistics\n",
        "import scipy.stats as st\n",
        "import numpy as np\n",
        "import pandas as pd\n",
        "import random\n",
        "import warnings\n",
        "import statsmodels.api as sm\n",
        "import scipy.stats.distributions as dist\n",
        "import scipy.stats as stats\n",
        "%matplotlib inline\n",
        "import matplotlib.pyplot as plt\n",
        "from IPython.display import Math, Latex\n",
        "import seaborn as sns\n",
        "from google.colab import drive\n"
      ],
      "execution_count": null,
      "outputs": [
        {
          "output_type": "stream",
          "name": "stderr",
          "text": [
            "/usr/local/lib/python3.7/dist-packages/statsmodels/tools/_testing.py:19: FutureWarning: pandas.util.testing is deprecated. Use the functions in the public API at pandas.testing instead.\n",
            "  import pandas.util.testing as tm\n"
          ]
        }
      ]
    },
    {
      "cell_type": "code",
      "metadata": {
        "id": "zpXR9c3m9t7b"
      },
      "source": [
        "# Add SNS Config\n",
        "sns.set(color_codes=True)\n",
        "sns.set(rc={'figure.figsize':(5,5)})"
      ],
      "execution_count": null,
      "outputs": []
    },
    {
      "cell_type": "code",
      "metadata": {
        "colab": {
          "base_uri": "https://localhost:8080/"
        },
        "id": "TTIyLqTw9V6V",
        "outputId": "1cc0afcb-c4fd-4f7f-9efa-74a16422ea65"
      },
      "source": [
        "# Load Dataset\n",
        "\n",
        "print ('Data read into a pandas dataframe!')\n",
        "drive.mount('/content/drive')\n",
        "rawData = pd.read_csv(\"/content/drive/MyDrive/Colab Notebooks/Dataset/nyc-rolling-sales.csv\")\n",
        "rawData = rawData.loc[:, ~rawData.columns.str.contains('^Unnamed')]\n",
        "print ('Data has been read from google drive')"
      ],
      "execution_count": null,
      "outputs": [
        {
          "output_type": "stream",
          "name": "stdout",
          "text": [
            "Data read into a pandas dataframe!\n",
            "Mounted at /content/drive\n",
            "Data has been read from google drive\n"
          ]
        }
      ]
    },
    {
      "cell_type": "markdown",
      "metadata": {
        "id": "rHeK9nBA9V6W"
      },
      "source": [
        "Let's view the top 5 rows of the dataset using the `head()` function."
      ]
    },
    {
      "cell_type": "code",
      "metadata": {
        "colab": {
          "base_uri": "https://localhost:8080/"
        },
        "id": "8YVUm11L9V6W",
        "outputId": "8794db92-5d1d-4765-b8b6-c46e63b06ed6"
      },
      "source": [
        "# Write your syntax here\n",
        "print('find first 5 data row')\n",
        "print(rawData.head())"
      ],
      "execution_count": null,
      "outputs": [
        {
          "output_type": "stream",
          "name": "stdout",
          "text": [
            "find first 5 data row\n",
            "   BOROUGH   NEIGHBORHOOD  ... SALE PRICE            SALE DATE\n",
            "0        1  ALPHABET CITY  ...    6625000  2017-07-19 00:00:00\n",
            "1        1  ALPHABET CITY  ...        -    2016-12-14 00:00:00\n",
            "2        1  ALPHABET CITY  ...        -    2016-12-09 00:00:00\n",
            "3        1  ALPHABET CITY  ...    3936272  2016-09-23 00:00:00\n",
            "4        1  ALPHABET CITY  ...    8000000  2016-11-17 00:00:00\n",
            "\n",
            "[5 rows x 21 columns]\n"
          ]
        }
      ]
    },
    {
      "cell_type": "markdown",
      "metadata": {
        "id": "BTlALlpD9V6X"
      },
      "source": [
        "We can also veiw the bottom 5 rows of the dataset using the `tail()` function."
      ]
    },
    {
      "cell_type": "code",
      "metadata": {
        "colab": {
          "base_uri": "https://localhost:8080/"
        },
        "id": "OlUFLz_89V6X",
        "outputId": "927d0c8e-d121-4273-ac50-a5ffe7f42584"
      },
      "source": [
        "# Write your syntax here\n",
        "print('find last 5 data row')\n",
        "print(rawData.tail())\n"
      ],
      "execution_count": null,
      "outputs": [
        {
          "output_type": "stream",
          "name": "stdout",
          "text": [
            "find last 5 data row\n",
            "       BOROUGH NEIGHBORHOOD  ... SALE PRICE            SALE DATE\n",
            "84543        5      WOODROW  ...     450000  2016-11-28 00:00:00\n",
            "84544        5      WOODROW  ...     550000  2017-04-21 00:00:00\n",
            "84545        5      WOODROW  ...     460000  2017-07-05 00:00:00\n",
            "84546        5      WOODROW  ...   11693337  2016-12-21 00:00:00\n",
            "84547        5      WOODROW  ...      69300  2016-10-27 00:00:00\n",
            "\n",
            "[5 rows x 21 columns]\n"
          ]
        }
      ]
    },
    {
      "cell_type": "markdown",
      "metadata": {
        "id": "d6akiH0i9V6X"
      },
      "source": [
        "BOROUGH: A digit code for the borough the property is located in; in order these are Manhattan (1), Bronx (2), Brooklyn (3), Queens (4), and Staten Island (5)."
      ]
    },
    {
      "cell_type": "markdown",
      "metadata": {
        "id": "Ivg62Xl_9V6X"
      },
      "source": [
        "To view the dimensions of the dataframe, we use the `.shape` parameter. Expected result: (84548, 22)"
      ]
    },
    {
      "cell_type": "code",
      "metadata": {
        "colab": {
          "base_uri": "https://localhost:8080/"
        },
        "id": "pOyf0sTw9V6Y",
        "outputId": "2d6f7153-6163-49e1-f11a-a817258ce4da"
      },
      "source": [
        "# Write your syntax here\n",
        "print(rawData.shape)"
      ],
      "execution_count": null,
      "outputs": [
        {
          "output_type": "stream",
          "name": "stdout",
          "text": [
            "(84548, 21)\n"
          ]
        }
      ]
    },
    {
      "cell_type": "markdown",
      "metadata": {
        "id": "HXLP_qzo9V6Y"
      },
      "source": [
        "According to this official page, Ease-ment is \"is a right, such as a right of way, which allows an entity to make limited use of another’s real property. For example: MTA railroad tracks that run across a portion of another property\". Also, the Unnamed column is not mentioned and was likely used for iterating through records. So, those two columns are removed for now."
      ]
    },
    {
      "cell_type": "code",
      "metadata": {
        "colab": {
          "base_uri": "https://localhost:8080/"
        },
        "id": "XkMTjfKh9V6Y",
        "outputId": "f24fcdca-41a8-4460-8989-7ec36888544f"
      },
      "source": [
        "# Drop 'Unnamed: 0' and 'EASE-MENT' features using .drop function\n",
        "rawDataModify = rawData\n",
        "print('dataframe information before cleaning')\n",
        "rawDataModify.info()\n",
        "# Unnamed 0 will not read by Dataframe\n",
        "rawDataModify = rawDataModify.drop(['EASE-MENT'],axis=1)"
      ],
      "execution_count": null,
      "outputs": [
        {
          "output_type": "stream",
          "name": "stdout",
          "text": [
            "dataframe information before cleaning\n",
            "<class 'pandas.core.frame.DataFrame'>\n",
            "RangeIndex: 84548 entries, 0 to 84547\n",
            "Data columns (total 21 columns):\n",
            " #   Column                          Non-Null Count  Dtype \n",
            "---  ------                          --------------  ----- \n",
            " 0   BOROUGH                         84548 non-null  int64 \n",
            " 1   NEIGHBORHOOD                    84548 non-null  object\n",
            " 2   BUILDING CLASS CATEGORY         84548 non-null  object\n",
            " 3   TAX CLASS AT PRESENT            84548 non-null  object\n",
            " 4   BLOCK                           84548 non-null  int64 \n",
            " 5   LOT                             84548 non-null  int64 \n",
            " 6   EASE-MENT                       84548 non-null  object\n",
            " 7   BUILDING CLASS AT PRESENT       84548 non-null  object\n",
            " 8   ADDRESS                         84548 non-null  object\n",
            " 9   APARTMENT NUMBER                84548 non-null  object\n",
            " 10  ZIP CODE                        84548 non-null  int64 \n",
            " 11  RESIDENTIAL UNITS               84548 non-null  int64 \n",
            " 12  COMMERCIAL UNITS                84548 non-null  int64 \n",
            " 13  TOTAL UNITS                     84548 non-null  int64 \n",
            " 14  LAND SQUARE FEET                84548 non-null  object\n",
            " 15  GROSS SQUARE FEET               84548 non-null  object\n",
            " 16  YEAR BUILT                      84548 non-null  int64 \n",
            " 17  TAX CLASS AT TIME OF SALE       84548 non-null  int64 \n",
            " 18  BUILDING CLASS AT TIME OF SALE  84548 non-null  object\n",
            " 19  SALE PRICE                      84548 non-null  object\n",
            " 20  SALE DATE                       84548 non-null  object\n",
            "dtypes: int64(9), object(12)\n",
            "memory usage: 13.5+ MB\n"
          ]
        }
      ]
    },
    {
      "cell_type": "markdown",
      "metadata": {
        "id": "Ncvom9kk9V6Y"
      },
      "source": [
        "Let's view Dtype of each features in dataframe using `.info()` function."
      ]
    },
    {
      "cell_type": "code",
      "metadata": {
        "id": "93ITDY_Z9V6Z",
        "colab": {
          "base_uri": "https://localhost:8080/"
        },
        "outputId": "6ed467d5-667b-4b44-cbce-b5aef32205ba"
      },
      "source": [
        "rawDataModify.info()"
      ],
      "execution_count": null,
      "outputs": [
        {
          "output_type": "stream",
          "name": "stdout",
          "text": [
            "<class 'pandas.core.frame.DataFrame'>\n",
            "RangeIndex: 84548 entries, 0 to 84547\n",
            "Data columns (total 20 columns):\n",
            " #   Column                          Non-Null Count  Dtype \n",
            "---  ------                          --------------  ----- \n",
            " 0   BOROUGH                         84548 non-null  int64 \n",
            " 1   NEIGHBORHOOD                    84548 non-null  object\n",
            " 2   BUILDING CLASS CATEGORY         84548 non-null  object\n",
            " 3   TAX CLASS AT PRESENT            84548 non-null  object\n",
            " 4   BLOCK                           84548 non-null  int64 \n",
            " 5   LOT                             84548 non-null  int64 \n",
            " 6   BUILDING CLASS AT PRESENT       84548 non-null  object\n",
            " 7   ADDRESS                         84548 non-null  object\n",
            " 8   APARTMENT NUMBER                84548 non-null  object\n",
            " 9   ZIP CODE                        84548 non-null  int64 \n",
            " 10  RESIDENTIAL UNITS               84548 non-null  int64 \n",
            " 11  COMMERCIAL UNITS                84548 non-null  int64 \n",
            " 12  TOTAL UNITS                     84548 non-null  int64 \n",
            " 13  LAND SQUARE FEET                84548 non-null  object\n",
            " 14  GROSS SQUARE FEET               84548 non-null  object\n",
            " 15  YEAR BUILT                      84548 non-null  int64 \n",
            " 16  TAX CLASS AT TIME OF SALE       84548 non-null  int64 \n",
            " 17  BUILDING CLASS AT TIME OF SALE  84548 non-null  object\n",
            " 18  SALE PRICE                      84548 non-null  object\n",
            " 19  SALE DATE                       84548 non-null  object\n",
            "dtypes: int64(9), object(11)\n",
            "memory usage: 12.9+ MB\n"
          ]
        }
      ]
    },
    {
      "cell_type": "markdown",
      "metadata": {
        "id": "eCp09M5L9V6Z"
      },
      "source": [
        "It looks like empty records are not being treated as NA. We convert columns to their appropriate data types to obtain NAs."
      ]
    },
    {
      "cell_type": "code",
      "metadata": {
        "id": "pXwxjugd9V6Z",
        "colab": {
          "base_uri": "https://localhost:8080/"
        },
        "outputId": "1eea84e7-0fa4-4368-e5df-db478453086c"
      },
      "source": [
        "#First, let's check which columns should be categorical\n",
        "print('Column name')\n",
        "for col in rawDataModify.columns:\n",
        "    if rawDataModify[col].dtype=='object':\n",
        "        print(col, rawDataModify[col].nunique())"
      ],
      "execution_count": null,
      "outputs": [
        {
          "output_type": "stream",
          "name": "stdout",
          "text": [
            "Column name\n",
            "NEIGHBORHOOD 254\n",
            "BUILDING CLASS CATEGORY 47\n",
            "TAX CLASS AT PRESENT 11\n",
            "BUILDING CLASS AT PRESENT 167\n",
            "ADDRESS 67563\n",
            "APARTMENT NUMBER 3989\n",
            "LAND SQUARE FEET 6062\n",
            "GROSS SQUARE FEET 5691\n",
            "BUILDING CLASS AT TIME OF SALE 166\n",
            "SALE PRICE 10008\n",
            "SALE DATE 364\n"
          ]
        }
      ]
    },
    {
      "cell_type": "code",
      "metadata": {
        "id": "mUcSpQ7E9V6a"
      },
      "source": [
        "# LAND SQUARE FEET,GROSS SQUARE FEET, SALE PRICE, BOROUGH should be numeric. \n",
        "# SALE DATE datetime format.\n",
        "# categorical: NEIGHBORHOOD, BUILDING CLASS CATEGORY, TAX CLASS AT PRESENT, BUILDING CLASS AT PRESENT,\n",
        "# BUILDING CLASS AT TIME OF SALE, TAX CLASS AT TIME OF SALE,BOROUGH \n",
        "\n",
        "numer = ['LAND SQUARE FEET','GROSS SQUARE FEET', 'SALE PRICE', 'BOROUGH']\n",
        "for col in numer: # coerce for missing values\n",
        "    rawDataModify[col] = pd.to_numeric(rawDataModify[col], errors='coerce')\n",
        "\n",
        "categ = ['NEIGHBORHOOD', 'BUILDING CLASS CATEGORY', 'TAX CLASS AT PRESENT', 'BUILDING CLASS AT PRESENT', 'BUILDING CLASS AT TIME OF SALE', 'TAX CLASS AT TIME OF SALE']\n",
        "for col in categ:\n",
        "    rawDataModify[col] = rawDataModify[col].astype('category')\n",
        "\n",
        "rawDataModify['SALE DATE'] = pd.to_datetime(rawDataModify['SALE DATE'], errors='coerce')"
      ],
      "execution_count": null,
      "outputs": []
    },
    {
      "cell_type": "markdown",
      "metadata": {
        "id": "IA2n3vJj9V6a"
      },
      "source": [
        "Our dataset is ready for checking missing values."
      ]
    },
    {
      "cell_type": "code",
      "metadata": {
        "id": "xW12xcrg9V6a",
        "colab": {
          "base_uri": "https://localhost:8080/"
        },
        "outputId": "0622ffb3-e32a-4f8b-f05d-8240c64e663d"
      },
      "source": [
        "missing = rawDataModify.isnull().sum()/len(rawDataModify)*100\n",
        "\n",
        "print(pd.DataFrame([missing[missing>0],pd.Series(rawDataModify.isnull().sum()[rawDataModify.isnull().sum()>1000])], index=['percent missing','how many missing']))"
      ],
      "execution_count": null,
      "outputs": [
        {
          "output_type": "stream",
          "name": "stdout",
          "text": [
            "                  LAND SQUARE FEET  GROSS SQUARE FEET   SALE PRICE\n",
            "percent missing          31.049818          32.658372     17.22217\n",
            "how many missing      26252.000000       27612.000000  14561.00000\n"
          ]
        }
      ]
    },
    {
      "cell_type": "markdown",
      "metadata": {
        "id": "KCUwUstJ9V6b"
      },
      "source": [
        "Around 30% of GROSS SF and LAND SF are missing. Furthermore, around 17% of SALE PRICE is also missing."
      ]
    },
    {
      "cell_type": "markdown",
      "metadata": {
        "id": "JWfJYRdR9V6b"
      },
      "source": [
        "Filling and finding missing value from one column to another ti reduce missing values."
      ]
    },
    {
      "cell_type": "code",
      "metadata": {
        "id": "tdK3RGOb9V6b",
        "colab": {
          "base_uri": "https://localhost:8080/"
        },
        "outputId": "0b90aade-1432-4a8e-9f1e-874bb3ed9af3"
      },
      "source": [
        "print(rawDataModify[(rawDataModify['LAND SQUARE FEET'].isnull()) & (rawDataModify['GROSS SQUARE FEET'].notnull())].shape)\n",
        "print(rawDataModify[(rawDataModify['LAND SQUARE FEET'].notnull()) & (rawDataModify['GROSS SQUARE FEET'].isnull())].shape)"
      ],
      "execution_count": null,
      "outputs": [
        {
          "output_type": "stream",
          "name": "stdout",
          "text": [
            "(6, 20)\n",
            "(1366, 20)\n"
          ]
        }
      ]
    },
    {
      "cell_type": "markdown",
      "metadata": {
        "id": "9A6aQijp9V6b"
      },
      "source": [
        "There are 1372 rows that can be filled in with their approximate values."
      ]
    },
    {
      "cell_type": "code",
      "metadata": {
        "id": "opb2p87s9V6c"
      },
      "source": [
        "rawDataModify['LAND SQUARE FEET'] = rawDataModify['LAND SQUARE FEET'].mask((rawDataModify['LAND SQUARE FEET'].isnull()) & (rawDataModify['GROSS SQUARE FEET'].notnull()), rawDataModify['GROSS SQUARE FEET'])\n",
        "rawDataModify['GROSS SQUARE FEET'] = rawDataModify['GROSS SQUARE FEET'].mask((rawDataModify['LAND SQUARE FEET'].notnull()) & (rawDataModify['GROSS SQUARE FEET'].isnull()), rawDataModify['LAND SQUARE FEET'])"
      ],
      "execution_count": null,
      "outputs": []
    },
    {
      "cell_type": "code",
      "metadata": {
        "id": "gJQUtidx9V6c",
        "colab": {
          "base_uri": "https://localhost:8080/",
          "height": 869
        },
        "outputId": "672cfc97-e911-4297-cd5d-7dbf2d735be2"
      },
      "source": [
        "#  Check for duplicates before\n",
        "\n",
        "print(sum(rawDataModify.duplicated()))\n",
        "\n",
        "rawDataModify[rawDataModify.duplicated(keep=False)].sort_values(['NEIGHBORHOOD', 'ADDRESS']).head(10)\n",
        "\n",
        "# df.duplicated() automatically excludes duplicates, to keep duplicates in df we use keep=False\n",
        "\n",
        "# in df.duplicated(df.columns) we can specify column names to look for duplicates only in those mentioned columns."
      ],
      "execution_count": null,
      "outputs": [
        {
          "output_type": "stream",
          "name": "stdout",
          "text": [
            "765\n"
          ]
        },
        {
          "output_type": "execute_result",
          "data": {
            "text/html": [
              "<div>\n",
              "<style scoped>\n",
              "    .dataframe tbody tr th:only-of-type {\n",
              "        vertical-align: middle;\n",
              "    }\n",
              "\n",
              "    .dataframe tbody tr th {\n",
              "        vertical-align: top;\n",
              "    }\n",
              "\n",
              "    .dataframe thead th {\n",
              "        text-align: right;\n",
              "    }\n",
              "</style>\n",
              "<table border=\"1\" class=\"dataframe\">\n",
              "  <thead>\n",
              "    <tr style=\"text-align: right;\">\n",
              "      <th></th>\n",
              "      <th>BOROUGH</th>\n",
              "      <th>NEIGHBORHOOD</th>\n",
              "      <th>BUILDING CLASS CATEGORY</th>\n",
              "      <th>TAX CLASS AT PRESENT</th>\n",
              "      <th>BLOCK</th>\n",
              "      <th>LOT</th>\n",
              "      <th>BUILDING CLASS AT PRESENT</th>\n",
              "      <th>ADDRESS</th>\n",
              "      <th>APARTMENT NUMBER</th>\n",
              "      <th>ZIP CODE</th>\n",
              "      <th>RESIDENTIAL UNITS</th>\n",
              "      <th>COMMERCIAL UNITS</th>\n",
              "      <th>TOTAL UNITS</th>\n",
              "      <th>LAND SQUARE FEET</th>\n",
              "      <th>GROSS SQUARE FEET</th>\n",
              "      <th>YEAR BUILT</th>\n",
              "      <th>TAX CLASS AT TIME OF SALE</th>\n",
              "      <th>BUILDING CLASS AT TIME OF SALE</th>\n",
              "      <th>SALE PRICE</th>\n",
              "      <th>SALE DATE</th>\n",
              "    </tr>\n",
              "  </thead>\n",
              "  <tbody>\n",
              "    <tr>\n",
              "      <th>76286</th>\n",
              "      <td>5</td>\n",
              "      <td>ANNADALE</td>\n",
              "      <td>02 TWO FAMILY DWELLINGS</td>\n",
              "      <td>1</td>\n",
              "      <td>6350</td>\n",
              "      <td>7</td>\n",
              "      <td>B2</td>\n",
              "      <td>106 BENNETT PLACE</td>\n",
              "      <td></td>\n",
              "      <td>10312</td>\n",
              "      <td>2</td>\n",
              "      <td>0</td>\n",
              "      <td>2</td>\n",
              "      <td>8000.0</td>\n",
              "      <td>4208.0</td>\n",
              "      <td>1985</td>\n",
              "      <td>1</td>\n",
              "      <td>B2</td>\n",
              "      <td>NaN</td>\n",
              "      <td>2017-06-27</td>\n",
              "    </tr>\n",
              "    <tr>\n",
              "      <th>76287</th>\n",
              "      <td>5</td>\n",
              "      <td>ANNADALE</td>\n",
              "      <td>02 TWO FAMILY DWELLINGS</td>\n",
              "      <td>1</td>\n",
              "      <td>6350</td>\n",
              "      <td>7</td>\n",
              "      <td>B2</td>\n",
              "      <td>106 BENNETT PLACE</td>\n",
              "      <td></td>\n",
              "      <td>10312</td>\n",
              "      <td>2</td>\n",
              "      <td>0</td>\n",
              "      <td>2</td>\n",
              "      <td>8000.0</td>\n",
              "      <td>4208.0</td>\n",
              "      <td>1985</td>\n",
              "      <td>1</td>\n",
              "      <td>B2</td>\n",
              "      <td>NaN</td>\n",
              "      <td>2017-06-27</td>\n",
              "    </tr>\n",
              "    <tr>\n",
              "      <th>76322</th>\n",
              "      <td>5</td>\n",
              "      <td>ANNADALE</td>\n",
              "      <td>05 TAX CLASS 1 VACANT LAND</td>\n",
              "      <td>1B</td>\n",
              "      <td>6459</td>\n",
              "      <td>28</td>\n",
              "      <td>V0</td>\n",
              "      <td>N/A HYLAN BOULEVARD</td>\n",
              "      <td></td>\n",
              "      <td>0</td>\n",
              "      <td>0</td>\n",
              "      <td>0</td>\n",
              "      <td>0</td>\n",
              "      <td>6667.0</td>\n",
              "      <td>6667.0</td>\n",
              "      <td>0</td>\n",
              "      <td>1</td>\n",
              "      <td>V0</td>\n",
              "      <td>NaN</td>\n",
              "      <td>2017-05-11</td>\n",
              "    </tr>\n",
              "    <tr>\n",
              "      <th>76323</th>\n",
              "      <td>5</td>\n",
              "      <td>ANNADALE</td>\n",
              "      <td>05 TAX CLASS 1 VACANT LAND</td>\n",
              "      <td>1B</td>\n",
              "      <td>6459</td>\n",
              "      <td>28</td>\n",
              "      <td>V0</td>\n",
              "      <td>N/A HYLAN BOULEVARD</td>\n",
              "      <td></td>\n",
              "      <td>0</td>\n",
              "      <td>0</td>\n",
              "      <td>0</td>\n",
              "      <td>0</td>\n",
              "      <td>6667.0</td>\n",
              "      <td>6667.0</td>\n",
              "      <td>0</td>\n",
              "      <td>1</td>\n",
              "      <td>V0</td>\n",
              "      <td>NaN</td>\n",
              "      <td>2017-05-11</td>\n",
              "    </tr>\n",
              "    <tr>\n",
              "      <th>76383</th>\n",
              "      <td>5</td>\n",
              "      <td>ARDEN HEIGHTS</td>\n",
              "      <td>01 ONE FAMILY DWELLINGS</td>\n",
              "      <td>1</td>\n",
              "      <td>5741</td>\n",
              "      <td>93</td>\n",
              "      <td>A5</td>\n",
              "      <td>266 ILYSSA WAY</td>\n",
              "      <td></td>\n",
              "      <td>10312</td>\n",
              "      <td>1</td>\n",
              "      <td>0</td>\n",
              "      <td>1</td>\n",
              "      <td>500.0</td>\n",
              "      <td>1354.0</td>\n",
              "      <td>1996</td>\n",
              "      <td>1</td>\n",
              "      <td>A5</td>\n",
              "      <td>320000.0</td>\n",
              "      <td>2017-06-06</td>\n",
              "    </tr>\n",
              "    <tr>\n",
              "      <th>76384</th>\n",
              "      <td>5</td>\n",
              "      <td>ARDEN HEIGHTS</td>\n",
              "      <td>01 ONE FAMILY DWELLINGS</td>\n",
              "      <td>1</td>\n",
              "      <td>5741</td>\n",
              "      <td>93</td>\n",
              "      <td>A5</td>\n",
              "      <td>266 ILYSSA WAY</td>\n",
              "      <td></td>\n",
              "      <td>10312</td>\n",
              "      <td>1</td>\n",
              "      <td>0</td>\n",
              "      <td>1</td>\n",
              "      <td>500.0</td>\n",
              "      <td>1354.0</td>\n",
              "      <td>1996</td>\n",
              "      <td>1</td>\n",
              "      <td>A5</td>\n",
              "      <td>320000.0</td>\n",
              "      <td>2017-06-06</td>\n",
              "    </tr>\n",
              "    <tr>\n",
              "      <th>76643</th>\n",
              "      <td>5</td>\n",
              "      <td>ARROCHAR</td>\n",
              "      <td>02 TWO FAMILY DWELLINGS</td>\n",
              "      <td>1</td>\n",
              "      <td>3103</td>\n",
              "      <td>57</td>\n",
              "      <td>B2</td>\n",
              "      <td>129 MC CLEAN AVENUE</td>\n",
              "      <td></td>\n",
              "      <td>10305</td>\n",
              "      <td>2</td>\n",
              "      <td>0</td>\n",
              "      <td>2</td>\n",
              "      <td>5000.0</td>\n",
              "      <td>2733.0</td>\n",
              "      <td>1925</td>\n",
              "      <td>1</td>\n",
              "      <td>B2</td>\n",
              "      <td>NaN</td>\n",
              "      <td>2017-03-21</td>\n",
              "    </tr>\n",
              "    <tr>\n",
              "      <th>76644</th>\n",
              "      <td>5</td>\n",
              "      <td>ARROCHAR</td>\n",
              "      <td>02 TWO FAMILY DWELLINGS</td>\n",
              "      <td>1</td>\n",
              "      <td>3103</td>\n",
              "      <td>57</td>\n",
              "      <td>B2</td>\n",
              "      <td>129 MC CLEAN AVENUE</td>\n",
              "      <td></td>\n",
              "      <td>10305</td>\n",
              "      <td>2</td>\n",
              "      <td>0</td>\n",
              "      <td>2</td>\n",
              "      <td>5000.0</td>\n",
              "      <td>2733.0</td>\n",
              "      <td>1925</td>\n",
              "      <td>1</td>\n",
              "      <td>B2</td>\n",
              "      <td>NaN</td>\n",
              "      <td>2017-03-21</td>\n",
              "    </tr>\n",
              "    <tr>\n",
              "      <th>50126</th>\n",
              "      <td>4</td>\n",
              "      <td>ASTORIA</td>\n",
              "      <td>03 THREE FAMILY DWELLINGS</td>\n",
              "      <td>1</td>\n",
              "      <td>856</td>\n",
              "      <td>139</td>\n",
              "      <td>C0</td>\n",
              "      <td>22-18 27TH   STREET</td>\n",
              "      <td></td>\n",
              "      <td>11105</td>\n",
              "      <td>3</td>\n",
              "      <td>0</td>\n",
              "      <td>3</td>\n",
              "      <td>2000.0</td>\n",
              "      <td>1400.0</td>\n",
              "      <td>1930</td>\n",
              "      <td>1</td>\n",
              "      <td>C0</td>\n",
              "      <td>NaN</td>\n",
              "      <td>2017-01-12</td>\n",
              "    </tr>\n",
              "    <tr>\n",
              "      <th>50127</th>\n",
              "      <td>4</td>\n",
              "      <td>ASTORIA</td>\n",
              "      <td>03 THREE FAMILY DWELLINGS</td>\n",
              "      <td>1</td>\n",
              "      <td>856</td>\n",
              "      <td>139</td>\n",
              "      <td>C0</td>\n",
              "      <td>22-18 27TH   STREET</td>\n",
              "      <td></td>\n",
              "      <td>11105</td>\n",
              "      <td>3</td>\n",
              "      <td>0</td>\n",
              "      <td>3</td>\n",
              "      <td>2000.0</td>\n",
              "      <td>1400.0</td>\n",
              "      <td>1930</td>\n",
              "      <td>1</td>\n",
              "      <td>C0</td>\n",
              "      <td>NaN</td>\n",
              "      <td>2017-01-12</td>\n",
              "    </tr>\n",
              "  </tbody>\n",
              "</table>\n",
              "</div>"
            ],
            "text/plain": [
              "       BOROUGH   NEIGHBORHOOD  ... SALE PRICE  SALE DATE\n",
              "76286        5       ANNADALE  ...        NaN 2017-06-27\n",
              "76287        5       ANNADALE  ...        NaN 2017-06-27\n",
              "76322        5       ANNADALE  ...        NaN 2017-05-11\n",
              "76323        5       ANNADALE  ...        NaN 2017-05-11\n",
              "76383        5  ARDEN HEIGHTS  ...   320000.0 2017-06-06\n",
              "76384        5  ARDEN HEIGHTS  ...   320000.0 2017-06-06\n",
              "76643        5       ARROCHAR  ...        NaN 2017-03-21\n",
              "76644        5       ARROCHAR  ...        NaN 2017-03-21\n",
              "50126        4        ASTORIA  ...        NaN 2017-01-12\n",
              "50127        4        ASTORIA  ...        NaN 2017-01-12\n",
              "\n",
              "[10 rows x 20 columns]"
            ]
          },
          "metadata": {},
          "execution_count": 14
        }
      ]
    },
    {
      "cell_type": "markdown",
      "metadata": {
        "id": "wVDYyeER9V6c"
      },
      "source": [
        "The dataframe has 765 duplicated rows (exluding the original rows)."
      ]
    },
    {
      "cell_type": "code",
      "metadata": {
        "id": "QWhCaBEX9V6c",
        "colab": {
          "base_uri": "https://localhost:8080/"
        },
        "outputId": "6a7c9d05-44ab-4c47-f5e9-8cc480c19782"
      },
      "source": [
        "rawDataModify.drop_duplicates(inplace=True)\n",
        "\n",
        "print(sum(rawDataModify.duplicated()))"
      ],
      "execution_count": null,
      "outputs": [
        {
          "output_type": "stream",
          "name": "stdout",
          "text": [
            "0\n"
          ]
        }
      ]
    },
    {
      "cell_type": "markdown",
      "metadata": {
        "id": "LC5FByC59V6d"
      },
      "source": [
        "## Exploratory data analysis"
      ]
    },
    {
      "cell_type": "markdown",
      "metadata": {
        "id": "5c1RoIV59V6d"
      },
      "source": [
        "Now, let's get a simple descriptive statistics with `.describe()` function for `COMMERCIAL UNITS` features."
      ]
    },
    {
      "cell_type": "code",
      "metadata": {
        "id": "7togmMFh9V6d",
        "colab": {
          "base_uri": "https://localhost:8080/",
          "height": 355
        },
        "outputId": "4187a4e6-e57b-4b58-d517-ef2d262fb75a"
      },
      "source": [
        "rawDataModify[rawDataModify['COMMERCIAL UNITS']==0].describe()"
      ],
      "execution_count": null,
      "outputs": [
        {
          "output_type": "execute_result",
          "data": {
            "text/html": [
              "<div>\n",
              "<style scoped>\n",
              "    .dataframe tbody tr th:only-of-type {\n",
              "        vertical-align: middle;\n",
              "    }\n",
              "\n",
              "    .dataframe tbody tr th {\n",
              "        vertical-align: top;\n",
              "    }\n",
              "\n",
              "    .dataframe thead th {\n",
              "        text-align: right;\n",
              "    }\n",
              "</style>\n",
              "<table border=\"1\" class=\"dataframe\">\n",
              "  <thead>\n",
              "    <tr style=\"text-align: right;\">\n",
              "      <th></th>\n",
              "      <th>BOROUGH</th>\n",
              "      <th>BLOCK</th>\n",
              "      <th>LOT</th>\n",
              "      <th>ZIP CODE</th>\n",
              "      <th>RESIDENTIAL UNITS</th>\n",
              "      <th>COMMERCIAL UNITS</th>\n",
              "      <th>TOTAL UNITS</th>\n",
              "      <th>LAND SQUARE FEET</th>\n",
              "      <th>GROSS SQUARE FEET</th>\n",
              "      <th>YEAR BUILT</th>\n",
              "      <th>SALE PRICE</th>\n",
              "    </tr>\n",
              "  </thead>\n",
              "  <tbody>\n",
              "    <tr>\n",
              "      <th>count</th>\n",
              "      <td>78777.000000</td>\n",
              "      <td>78777.000000</td>\n",
              "      <td>78777.000000</td>\n",
              "      <td>78777.000000</td>\n",
              "      <td>78777.000000</td>\n",
              "      <td>78777.0</td>\n",
              "      <td>78777.000000</td>\n",
              "      <td>5.278000e+04</td>\n",
              "      <td>5.278000e+04</td>\n",
              "      <td>78777.000000</td>\n",
              "      <td>6.562900e+04</td>\n",
              "    </tr>\n",
              "    <tr>\n",
              "      <th>mean</th>\n",
              "      <td>3.004329</td>\n",
              "      <td>4273.781015</td>\n",
              "      <td>395.422420</td>\n",
              "      <td>10722.737068</td>\n",
              "      <td>1.691737</td>\n",
              "      <td>0.0</td>\n",
              "      <td>1.724133</td>\n",
              "      <td>3.140140e+03</td>\n",
              "      <td>2.714612e+03</td>\n",
              "      <td>1781.065451</td>\n",
              "      <td>9.952969e+05</td>\n",
              "    </tr>\n",
              "    <tr>\n",
              "      <th>std</th>\n",
              "      <td>1.298594</td>\n",
              "      <td>3589.241940</td>\n",
              "      <td>671.604654</td>\n",
              "      <td>1318.493961</td>\n",
              "      <td>9.838994</td>\n",
              "      <td>0.0</td>\n",
              "      <td>9.835016</td>\n",
              "      <td>2.929999e+04</td>\n",
              "      <td>2.791294e+04</td>\n",
              "      <td>551.024570</td>\n",
              "      <td>3.329268e+06</td>\n",
              "    </tr>\n",
              "    <tr>\n",
              "      <th>min</th>\n",
              "      <td>1.000000</td>\n",
              "      <td>1.000000</td>\n",
              "      <td>1.000000</td>\n",
              "      <td>0.000000</td>\n",
              "      <td>0.000000</td>\n",
              "      <td>0.0</td>\n",
              "      <td>0.000000</td>\n",
              "      <td>0.000000e+00</td>\n",
              "      <td>0.000000e+00</td>\n",
              "      <td>0.000000</td>\n",
              "      <td>0.000000e+00</td>\n",
              "    </tr>\n",
              "    <tr>\n",
              "      <th>25%</th>\n",
              "      <td>2.000000</td>\n",
              "      <td>1330.000000</td>\n",
              "      <td>23.000000</td>\n",
              "      <td>10304.000000</td>\n",
              "      <td>0.000000</td>\n",
              "      <td>0.0</td>\n",
              "      <td>1.000000</td>\n",
              "      <td>1.600000e+03</td>\n",
              "      <td>9.750000e+02</td>\n",
              "      <td>1920.000000</td>\n",
              "      <td>2.400000e+05</td>\n",
              "    </tr>\n",
              "    <tr>\n",
              "      <th>50%</th>\n",
              "      <td>3.000000</td>\n",
              "      <td>3340.000000</td>\n",
              "      <td>52.000000</td>\n",
              "      <td>11209.000000</td>\n",
              "      <td>1.000000</td>\n",
              "      <td>0.0</td>\n",
              "      <td>1.000000</td>\n",
              "      <td>2.295000e+03</td>\n",
              "      <td>1.600000e+03</td>\n",
              "      <td>1940.000000</td>\n",
              "      <td>5.294900e+05</td>\n",
              "    </tr>\n",
              "    <tr>\n",
              "      <th>75%</th>\n",
              "      <td>4.000000</td>\n",
              "      <td>6361.000000</td>\n",
              "      <td>1003.000000</td>\n",
              "      <td>11357.000000</td>\n",
              "      <td>2.000000</td>\n",
              "      <td>0.0</td>\n",
              "      <td>2.000000</td>\n",
              "      <td>3.300000e+03</td>\n",
              "      <td>2.388000e+03</td>\n",
              "      <td>1967.000000</td>\n",
              "      <td>9.219560e+05</td>\n",
              "    </tr>\n",
              "    <tr>\n",
              "      <th>max</th>\n",
              "      <td>5.000000</td>\n",
              "      <td>16322.000000</td>\n",
              "      <td>9106.000000</td>\n",
              "      <td>11694.000000</td>\n",
              "      <td>889.000000</td>\n",
              "      <td>0.0</td>\n",
              "      <td>889.000000</td>\n",
              "      <td>4.252327e+06</td>\n",
              "      <td>4.252327e+06</td>\n",
              "      <td>2017.000000</td>\n",
              "      <td>3.450000e+08</td>\n",
              "    </tr>\n",
              "  </tbody>\n",
              "</table>\n",
              "</div>"
            ],
            "text/plain": [
              "            BOROUGH         BLOCK  ...    YEAR BUILT    SALE PRICE\n",
              "count  78777.000000  78777.000000  ...  78777.000000  6.562900e+04\n",
              "mean       3.004329   4273.781015  ...   1781.065451  9.952969e+05\n",
              "std        1.298594   3589.241940  ...    551.024570  3.329268e+06\n",
              "min        1.000000      1.000000  ...      0.000000  0.000000e+00\n",
              "25%        2.000000   1330.000000  ...   1920.000000  2.400000e+05\n",
              "50%        3.000000   3340.000000  ...   1940.000000  5.294900e+05\n",
              "75%        4.000000   6361.000000  ...   1967.000000  9.219560e+05\n",
              "max        5.000000  16322.000000  ...   2017.000000  3.450000e+08\n",
              "\n",
              "[8 rows x 11 columns]"
            ]
          },
          "metadata": {},
          "execution_count": 16
        }
      ]
    },
    {
      "cell_type": "markdown",
      "metadata": {
        "id": "H3b26Zj39V6d"
      },
      "source": [
        "Let us try to understand the columns. Above table shows descriptive statistics for the numeric columns.\n",
        "\n",
        "- There are zipcodes with 0 value\n",
        "- Can block/lot numbers go up to 16322?\n",
        "- Most of the properties have 2 unit and maximum of 1844 units? The latter might mean some company purchased a building. This should be treated as an outlier.\n",
        "- Other columns also have outliers which needs further investigation.\n",
        "- Year column has a year with 0\n",
        "- Most sales prices less than 10000 can be treated as gift or transfer fees."
      ]
    },
    {
      "cell_type": "markdown",
      "metadata": {
        "id": "CfwYlC289V6e"
      },
      "source": [
        "Now, let's get a simple descriptive statistics with `.describe()` function for `RESIDENTIAL UNITS` features.\n",
        "\n",
        "Function below are graded function. (1 Points)"
      ]
    },
    {
      "cell_type": "code",
      "metadata": {
        "id": "5AQRO5VD9V6e",
        "colab": {
          "base_uri": "https://localhost:8080/"
        },
        "outputId": "fba048dc-92bc-465b-da4e-2ff51b17f37e"
      },
      "source": [
        "# Write your function below\n",
        "\n",
        "# Graded-Funtion Begin (~1 Lines)\n",
        "rawDataModify['RESIDENTIAL UNITS'].describe()\n",
        "\n",
        "# Graded-Funtion End"
      ],
      "execution_count": null,
      "outputs": [
        {
          "output_type": "execute_result",
          "data": {
            "text/plain": [
              "count    83783.000000\n",
              "mean         1.999976\n",
              "std         16.569118\n",
              "min          0.000000\n",
              "25%          0.000000\n",
              "50%          1.000000\n",
              "75%          2.000000\n",
              "max       1844.000000\n",
              "Name: RESIDENTIAL UNITS, dtype: float64"
            ]
          },
          "metadata": {},
          "execution_count": 17
        }
      ]
    },
    {
      "cell_type": "markdown",
      "metadata": {
        "id": "VeZ4yfSm9V6e"
      },
      "source": [
        "Write your findings below:\n",
        "\n",
        "Rata-Rata unit yang tersisa pada residential adalah 2, Dan sudah banyak residential yang tidak mempunyai unit untuk di jual"
      ]
    },
    {
      "cell_type": "markdown",
      "metadata": {
        "id": "ahUUyM789V6e"
      },
      "source": [
        "Use `.value_counts` function to count total value of `BOROUGH` features. Expected value:\n",
        "\n",
        "4    26548\\\n",
        "3    23843\\\n",
        "1    18102\\\n",
        "5     8296\\\n",
        "2     6994\\\n",
        "Name: BOROUGH, dtype: int64"
      ]
    },
    {
      "cell_type": "code",
      "metadata": {
        "id": "ufVjUzeE9V6f",
        "colab": {
          "base_uri": "https://localhost:8080/"
        },
        "outputId": "f39b694a-e1e2-43d2-b74d-b1f3ebde89e1"
      },
      "source": [
        "# Write your syntax below\n",
        "rawDataModify.value_counts(['BOROUGH'])\n"
      ],
      "execution_count": null,
      "outputs": [
        {
          "output_type": "execute_result",
          "data": {
            "text/plain": [
              "BOROUGH\n",
              "4          26548\n",
              "3          23843\n",
              "1          18102\n",
              "5           8296\n",
              "2           6994\n",
              "dtype: int64"
            ]
          },
          "metadata": {},
          "execution_count": 18
        }
      ]
    },
    {
      "cell_type": "markdown",
      "metadata": {
        "id": "u4LjuN1L9V6f"
      },
      "source": [
        "From here, we can calculate the mean for each Borough. Use `.mean()` function to calculate mean.\n",
        "\n",
        "Function below are graded function. (1 Points)"
      ]
    },
    {
      "cell_type": "code",
      "metadata": {
        "id": "WYUglIGS9V6f",
        "colab": {
          "base_uri": "https://localhost:8080/"
        },
        "outputId": "b98b3700-1f41-486d-dd62-9b0b2a848d2b"
      },
      "source": [
        "# Write your function below\n",
        "\n",
        "# Graded-Funtion Begin (~1 Lines)\n",
        "#rawDataModify['BOROUGH'].mean()\n",
        "rawDataModify.groupby(['BOROUGH'])['SALE PRICE'].mean()\n",
        "# Graded-Funtion End"
      ],
      "execution_count": null,
      "outputs": [
        {
          "output_type": "execute_result",
          "data": {
            "text/plain": [
              "BOROUGH\n",
              "1    3.344642e+06\n",
              "2    5.946771e+05\n",
              "3    8.410834e+05\n",
              "4    7.388827e+05\n",
              "5    5.436113e+05\n",
              "Name: SALE PRICE, dtype: float64"
            ]
          },
          "metadata": {},
          "execution_count": 19
        }
      ]
    },
    {
      "cell_type": "markdown",
      "metadata": {
        "id": "g5dmyjrB9V6f"
      },
      "source": [
        "From here, we can calculate the median for each Borough. Use `.median()` function to calculate median.\n",
        "\n",
        "Function below are graded function. (1 Points)"
      ]
    },
    {
      "cell_type": "code",
      "metadata": {
        "id": "2Q_kI_XL9V6f",
        "colab": {
          "base_uri": "https://localhost:8080/"
        },
        "outputId": "20966958-801f-4cc6-d2b2-b880c6b67f40"
      },
      "source": [
        "# Write your function below\n",
        "\n",
        "# Graded-Funtion Begin (~1 Lines)\n",
        "rawDataModify.groupby(['BOROUGH'])['SALE PRICE'].median()\n",
        "# Graded-Funtion End"
      ],
      "execution_count": null,
      "outputs": [
        {
          "output_type": "execute_result",
          "data": {
            "text/plain": [
              "BOROUGH\n",
              "1    1155000.0\n",
              "2     274897.0\n",
              "3     425605.0\n",
              "4     495000.0\n",
              "5     465000.0\n",
              "Name: SALE PRICE, dtype: float64"
            ]
          },
          "metadata": {},
          "execution_count": 20
        }
      ]
    },
    {
      "cell_type": "markdown",
      "metadata": {
        "id": "vmgpF1uX9V6g"
      },
      "source": [
        "From here, we can calculate the mode for each Borough.\n",
        "\n",
        "Function below are graded function. (1 Points)"
      ]
    },
    {
      "cell_type": "code",
      "metadata": {
        "id": "Surv3uJ99V6g",
        "colab": {
          "base_uri": "https://localhost:8080/",
          "height": 206
        },
        "outputId": "97a56293-e55c-4613-908b-707d86a0a1eb"
      },
      "source": [
        "# Write your function below\n",
        "\n",
        "# Graded-Funtion Begin (~1 Lines)\n",
        "rawDataModify.groupby(['BOROUGH']).apply(pd.DataFrame.mode)['SALE PRICE'].reset_index()\n",
        "#print(x)\n",
        "#print(x['SALE PRICE'])\n",
        "# Graded-Funtion End"
      ],
      "execution_count": null,
      "outputs": [
        {
          "output_type": "execute_result",
          "data": {
            "text/html": [
              "<div>\n",
              "<style scoped>\n",
              "    .dataframe tbody tr th:only-of-type {\n",
              "        vertical-align: middle;\n",
              "    }\n",
              "\n",
              "    .dataframe tbody tr th {\n",
              "        vertical-align: top;\n",
              "    }\n",
              "\n",
              "    .dataframe thead th {\n",
              "        text-align: right;\n",
              "    }\n",
              "</style>\n",
              "<table border=\"1\" class=\"dataframe\">\n",
              "  <thead>\n",
              "    <tr style=\"text-align: right;\">\n",
              "      <th></th>\n",
              "      <th>BOROUGH</th>\n",
              "      <th>level_1</th>\n",
              "      <th>SALE PRICE</th>\n",
              "    </tr>\n",
              "  </thead>\n",
              "  <tbody>\n",
              "    <tr>\n",
              "      <th>0</th>\n",
              "      <td>1</td>\n",
              "      <td>0</td>\n",
              "      <td>10.0</td>\n",
              "    </tr>\n",
              "    <tr>\n",
              "      <th>1</th>\n",
              "      <td>2</td>\n",
              "      <td>0</td>\n",
              "      <td>0.0</td>\n",
              "    </tr>\n",
              "    <tr>\n",
              "      <th>2</th>\n",
              "      <td>3</td>\n",
              "      <td>0</td>\n",
              "      <td>0.0</td>\n",
              "    </tr>\n",
              "    <tr>\n",
              "      <th>3</th>\n",
              "      <td>4</td>\n",
              "      <td>0</td>\n",
              "      <td>10.0</td>\n",
              "    </tr>\n",
              "    <tr>\n",
              "      <th>4</th>\n",
              "      <td>5</td>\n",
              "      <td>0</td>\n",
              "      <td>10.0</td>\n",
              "    </tr>\n",
              "  </tbody>\n",
              "</table>\n",
              "</div>"
            ],
            "text/plain": [
              "   BOROUGH  level_1  SALE PRICE\n",
              "0        1        0        10.0\n",
              "1        2        0         0.0\n",
              "2        3        0         0.0\n",
              "3        4        0        10.0\n",
              "4        5        0        10.0"
            ]
          },
          "metadata": {},
          "execution_count": 21
        }
      ]
    },
    {
      "cell_type": "markdown",
      "metadata": {
        "id": "YPhMBvp99V6g"
      },
      "source": [
        "From here, we can calculate the Range for each Borough.\n",
        "\n",
        "Function below are graded function. (1 Points)"
      ]
    },
    {
      "cell_type": "code",
      "metadata": {
        "id": "1KBGpkX19V6g",
        "colab": {
          "base_uri": "https://localhost:8080/",
          "height": 238
        },
        "outputId": "a81c09e5-7e72-498e-ed53-2912417b9572"
      },
      "source": [
        "# Write your function below\n",
        "\n",
        "# Graded-Funtion Begin (~1 Lines)\n",
        "rawDataModify.groupby(['BOROUGH'],as_index=False).agg({'SALE PRICE': ['min','mean', 'max']}).reset_index()\n",
        "# Graded-Funtion End"
      ],
      "execution_count": null,
      "outputs": [
        {
          "output_type": "execute_result",
          "data": {
            "text/html": [
              "<div>\n",
              "<style scoped>\n",
              "    .dataframe tbody tr th:only-of-type {\n",
              "        vertical-align: middle;\n",
              "    }\n",
              "\n",
              "    .dataframe tbody tr th {\n",
              "        vertical-align: top;\n",
              "    }\n",
              "\n",
              "    .dataframe thead tr th {\n",
              "        text-align: left;\n",
              "    }\n",
              "</style>\n",
              "<table border=\"1\" class=\"dataframe\">\n",
              "  <thead>\n",
              "    <tr>\n",
              "      <th></th>\n",
              "      <th>index</th>\n",
              "      <th>BOROUGH</th>\n",
              "      <th colspan=\"3\" halign=\"left\">SALE PRICE</th>\n",
              "    </tr>\n",
              "    <tr>\n",
              "      <th></th>\n",
              "      <th></th>\n",
              "      <th></th>\n",
              "      <th>min</th>\n",
              "      <th>mean</th>\n",
              "      <th>max</th>\n",
              "    </tr>\n",
              "  </thead>\n",
              "  <tbody>\n",
              "    <tr>\n",
              "      <th>0</th>\n",
              "      <td>0</td>\n",
              "      <td>1</td>\n",
              "      <td>1.0</td>\n",
              "      <td>3.344642e+06</td>\n",
              "      <td>2.210000e+09</td>\n",
              "    </tr>\n",
              "    <tr>\n",
              "      <th>1</th>\n",
              "      <td>1</td>\n",
              "      <td>2</td>\n",
              "      <td>0.0</td>\n",
              "      <td>5.946771e+05</td>\n",
              "      <td>1.100000e+08</td>\n",
              "    </tr>\n",
              "    <tr>\n",
              "      <th>2</th>\n",
              "      <td>2</td>\n",
              "      <td>3</td>\n",
              "      <td>0.0</td>\n",
              "      <td>8.410834e+05</td>\n",
              "      <td>3.450000e+08</td>\n",
              "    </tr>\n",
              "    <tr>\n",
              "      <th>3</th>\n",
              "      <td>3</td>\n",
              "      <td>4</td>\n",
              "      <td>1.0</td>\n",
              "      <td>7.388827e+05</td>\n",
              "      <td>2.575000e+08</td>\n",
              "    </tr>\n",
              "    <tr>\n",
              "      <th>4</th>\n",
              "      <td>4</td>\n",
              "      <td>5</td>\n",
              "      <td>1.0</td>\n",
              "      <td>5.436113e+05</td>\n",
              "      <td>1.220000e+08</td>\n",
              "    </tr>\n",
              "  </tbody>\n",
              "</table>\n",
              "</div>"
            ],
            "text/plain": [
              "  index BOROUGH SALE PRICE                            \n",
              "                       min          mean           max\n",
              "0     0       1        1.0  3.344642e+06  2.210000e+09\n",
              "1     1       2        0.0  5.946771e+05  1.100000e+08\n",
              "2     2       3        0.0  8.410834e+05  3.450000e+08\n",
              "3     3       4        1.0  7.388827e+05  2.575000e+08\n",
              "4     4       5        1.0  5.436113e+05  1.220000e+08"
            ]
          },
          "metadata": {},
          "execution_count": 22
        }
      ]
    },
    {
      "cell_type": "markdown",
      "metadata": {
        "id": "ibZK3NuP9V6g"
      },
      "source": [
        "From here, we can calculate the Variance for each Borough.\n",
        "\n",
        "Function below are graded function. (1 Points)"
      ]
    },
    {
      "cell_type": "code",
      "metadata": {
        "id": "ziEFT_F59V6h",
        "colab": {
          "base_uri": "https://localhost:8080/",
          "height": 238
        },
        "outputId": "ac59c00a-7e3b-4af9-beef-caebdcfe73b2"
      },
      "source": [
        "# Write your function below\n",
        "\n",
        "# Graded-Funtion Begin (~1 Lines)\n",
        "rawDataModify.groupby(['BOROUGH'],as_index=False).agg({'SALE PRICE': ['var']}).reset_index()\n",
        "# Graded-Funtion End"
      ],
      "execution_count": null,
      "outputs": [
        {
          "output_type": "execute_result",
          "data": {
            "text/html": [
              "<div>\n",
              "<style scoped>\n",
              "    .dataframe tbody tr th:only-of-type {\n",
              "        vertical-align: middle;\n",
              "    }\n",
              "\n",
              "    .dataframe tbody tr th {\n",
              "        vertical-align: top;\n",
              "    }\n",
              "\n",
              "    .dataframe thead tr th {\n",
              "        text-align: left;\n",
              "    }\n",
              "</style>\n",
              "<table border=\"1\" class=\"dataframe\">\n",
              "  <thead>\n",
              "    <tr>\n",
              "      <th></th>\n",
              "      <th>index</th>\n",
              "      <th>BOROUGH</th>\n",
              "      <th>SALE PRICE</th>\n",
              "    </tr>\n",
              "    <tr>\n",
              "      <th></th>\n",
              "      <th></th>\n",
              "      <th></th>\n",
              "      <th>var</th>\n",
              "    </tr>\n",
              "  </thead>\n",
              "  <tbody>\n",
              "    <tr>\n",
              "      <th>0</th>\n",
              "      <td>0</td>\n",
              "      <td>1</td>\n",
              "      <td>5.827628e+14</td>\n",
              "    </tr>\n",
              "    <tr>\n",
              "      <th>1</th>\n",
              "      <td>1</td>\n",
              "      <td>2</td>\n",
              "      <td>7.803693e+12</td>\n",
              "    </tr>\n",
              "    <tr>\n",
              "      <th>2</th>\n",
              "      <td>2</td>\n",
              "      <td>3</td>\n",
              "      <td>1.561761e+13</td>\n",
              "    </tr>\n",
              "    <tr>\n",
              "      <th>3</th>\n",
              "      <td>3</td>\n",
              "      <td>4</td>\n",
              "      <td>1.041624e+13</td>\n",
              "    </tr>\n",
              "    <tr>\n",
              "      <th>4</th>\n",
              "      <td>4</td>\n",
              "      <td>5</td>\n",
              "      <td>3.631100e+12</td>\n",
              "    </tr>\n",
              "  </tbody>\n",
              "</table>\n",
              "</div>"
            ],
            "text/plain": [
              "  index BOROUGH    SALE PRICE\n",
              "                          var\n",
              "0     0       1  5.827628e+14\n",
              "1     1       2  7.803693e+12\n",
              "2     2       3  1.561761e+13\n",
              "3     3       4  1.041624e+13\n",
              "4     4       5  3.631100e+12"
            ]
          },
          "metadata": {},
          "execution_count": 23
        }
      ]
    },
    {
      "cell_type": "markdown",
      "metadata": {
        "id": "zrZ4yI989V6h"
      },
      "source": [
        "From here, we can calculate the SD for each Borough.\n",
        "\n",
        "Function below are graded function. (1 Points)"
      ]
    },
    {
      "cell_type": "code",
      "metadata": {
        "id": "WkVboOnQ9V6h",
        "colab": {
          "base_uri": "https://localhost:8080/",
          "height": 238
        },
        "outputId": "a68fd9c8-997d-49c9-bed1-2f14000a2290"
      },
      "source": [
        "# Write your function below\n",
        "\n",
        "# Graded-Funtion Begin (~1 Lines)\n",
        "rawDataModify.groupby(['BOROUGH'],as_index=False).agg({'SALE PRICE': ['std']}).reset_index()\n",
        "# Graded-Funtion End"
      ],
      "execution_count": null,
      "outputs": [
        {
          "output_type": "execute_result",
          "data": {
            "text/html": [
              "<div>\n",
              "<style scoped>\n",
              "    .dataframe tbody tr th:only-of-type {\n",
              "        vertical-align: middle;\n",
              "    }\n",
              "\n",
              "    .dataframe tbody tr th {\n",
              "        vertical-align: top;\n",
              "    }\n",
              "\n",
              "    .dataframe thead tr th {\n",
              "        text-align: left;\n",
              "    }\n",
              "</style>\n",
              "<table border=\"1\" class=\"dataframe\">\n",
              "  <thead>\n",
              "    <tr>\n",
              "      <th></th>\n",
              "      <th>index</th>\n",
              "      <th>BOROUGH</th>\n",
              "      <th>SALE PRICE</th>\n",
              "    </tr>\n",
              "    <tr>\n",
              "      <th></th>\n",
              "      <th></th>\n",
              "      <th></th>\n",
              "      <th>std</th>\n",
              "    </tr>\n",
              "  </thead>\n",
              "  <tbody>\n",
              "    <tr>\n",
              "      <th>0</th>\n",
              "      <td>0</td>\n",
              "      <td>1</td>\n",
              "      <td>2.414048e+07</td>\n",
              "    </tr>\n",
              "    <tr>\n",
              "      <th>1</th>\n",
              "      <td>1</td>\n",
              "      <td>2</td>\n",
              "      <td>2.793509e+06</td>\n",
              "    </tr>\n",
              "    <tr>\n",
              "      <th>2</th>\n",
              "      <td>2</td>\n",
              "      <td>3</td>\n",
              "      <td>3.951912e+06</td>\n",
              "    </tr>\n",
              "    <tr>\n",
              "      <th>3</th>\n",
              "      <td>3</td>\n",
              "      <td>4</td>\n",
              "      <td>3.227420e+06</td>\n",
              "    </tr>\n",
              "    <tr>\n",
              "      <th>4</th>\n",
              "      <td>4</td>\n",
              "      <td>5</td>\n",
              "      <td>1.905544e+06</td>\n",
              "    </tr>\n",
              "  </tbody>\n",
              "</table>\n",
              "</div>"
            ],
            "text/plain": [
              "  index BOROUGH    SALE PRICE\n",
              "                          std\n",
              "0     0       1  2.414048e+07\n",
              "1     1       2  2.793509e+06\n",
              "2     2       3  3.951912e+06\n",
              "3     3       4  3.227420e+06\n",
              "4     4       5  1.905544e+06"
            ]
          },
          "metadata": {},
          "execution_count": 24
        }
      ]
    },
    {
      "cell_type": "markdown",
      "metadata": {
        "id": "nqWlfAI69V6h"
      },
      "source": [
        "Now we can analyze Probability Distibution below.\n",
        "\n",
        "Function below are graded function. (1 Points)"
      ]
    },
    {
      "cell_type": "code",
      "metadata": {
        "id": "OFbB2IsS9V6h",
        "colab": {
          "base_uri": "https://localhost:8080/",
          "height": 696
        },
        "outputId": "be480e3b-b73d-4748-93f8-4624b96a7dfc"
      },
      "source": [
        "# Write your function below\n",
        "\n",
        "# Graded-Funtion Begin\n",
        "rawData.drop(rawData[rawData['SALE PRICE'] == ' -  '].index,inplace=True)\n",
        "\n",
        "df_year = rawData[(rawData['RESIDENTIAL UNITS']==0)&(rawData[\"COMMERCIAL UNITS\"]>0)]\n",
        "rawData['SALE DATE'] = pd.to_datetime(rawData['SALE DATE']).dt.normalize()\n",
        "rawData['YEAR'] = rawData['SALE DATE'].dt.year\n",
        "rawData['MONTH'] = rawData['SALE DATE'].dt.month\n",
        "rawData['SALE PRICE'] = pd.to_numeric(rawData['SALE PRICE'])\n",
        "print(rawData)\n",
        "df_sale= df_year.loc[:,('NEIGHBORHOOD','BUILDING CLASS CATEGORY','BUILDING CLASS AT TIME OF SALE','SALE PRICE','YEAR','MONTH')]\n",
        "sales = np.log(df_sale['SALE PRICE'])\n",
        "sns.displot(sales)\n",
        "plt.title(\"distribution of commercial unit sale price\",y=1.02)\n",
        "\n",
        "\n",
        "\n",
        "\n",
        "# Graded-Funtion End"
      ],
      "execution_count": null,
      "outputs": [
        {
          "output_type": "stream",
          "name": "stdout",
          "text": [
            "       BOROUGH   NEIGHBORHOOD  ...  YEAR MONTH\n",
            "0            1  ALPHABET CITY  ...  2017     7\n",
            "3            1  ALPHABET CITY  ...  2016     9\n",
            "4            1  ALPHABET CITY  ...  2016    11\n",
            "6            1  ALPHABET CITY  ...  2016     9\n",
            "9            1  ALPHABET CITY  ...  2016    11\n",
            "...        ...            ...  ...   ...   ...\n",
            "84543        5        WOODROW  ...  2016    11\n",
            "84544        5        WOODROW  ...  2017     4\n",
            "84545        5        WOODROW  ...  2017     7\n",
            "84546        5        WOODROW  ...  2016    12\n",
            "84547        5        WOODROW  ...  2016    10\n",
            "\n",
            "[69987 rows x 23 columns]\n"
          ]
        },
        {
          "output_type": "stream",
          "name": "stderr",
          "text": [
            "/usr/local/lib/python3.7/dist-packages/pandas/core/series.py:726: RuntimeWarning: divide by zero encountered in log\n",
            "  result = getattr(ufunc, method)(*inputs, **kwargs)\n"
          ]
        },
        {
          "output_type": "execute_result",
          "data": {
            "text/plain": [
              "Text(0.5, 1.02, 'distribution of commercial unit sale price')"
            ]
          },
          "metadata": {},
          "execution_count": 62
        },
        {
          "output_type": "display_data",
          "data": {
            "image/png": "[encoded data removed]",
            "text/plain": [
              "<Figure size 360x360 with 1 Axes>"
            ]
          },
          "metadata": {}
        }
      ]
    },
    {
      "cell_type": "markdown",
      "metadata": {
        "id": "rQ501gk39V6i"
      },
      "source": [
        "Now we can analyze Confidence Intervals below.\n",
        "\n",
        "Function below are graded function. (1 Points)"
      ]
    },
    {
      "cell_type": "code",
      "metadata": {
        "id": "hOh7EZ5X9V6i",
        "colab": {
          "base_uri": "https://localhost:8080/"
        },
        "outputId": "592db6e8-365f-4c3a-e2ea-26f54368d3a4"
      },
      "source": [
        "# Write your function below\n",
        "\n",
        "# Graded-Funtion Begin\n",
        "rawDataModify2 = rawDataModify.groupby(['BOROUGH']).agg({'SALE PRICE':['mean','count','std']})\n",
        "print(rawDataModify2)\n",
        "print('-'*30)\n",
        "ci95_hi = []\n",
        "ci95_lo = []\n",
        "\n",
        "for i in rawDataModify2.index:\n",
        "  m,c,s = rawDataModify2.loc[i]\n",
        "  ci95_hi.append(m + 1.96*s/math.sqrt(c))\n",
        "  ci95_lo.append(m - 1.96*s/math.sqrt(c))\n",
        "rawDataModify2['ci95_hi'] = ci95_hi\n",
        "rawDataModify2['ci95_lo'] = ci95_lo\n",
        "print('-'*30)\n",
        "print(rawDataModify2)\n",
        "\n",
        "\n",
        "# Graded-Funtion End"
      ],
      "execution_count": null,
      "outputs": [
        {
          "output_type": "stream",
          "name": "stdout",
          "text": [
            "           SALE PRICE                     \n",
            "                 mean  count           std\n",
            "BOROUGH                                   \n",
            "1        3.344642e+06  14374  2.414048e+07\n",
            "2        5.946771e+05   6994  2.793509e+06\n",
            "3        8.410834e+05  23843  3.951912e+06\n",
            "4        7.388827e+05  18410  3.227420e+06\n",
            "5        5.436113e+05   5986  1.905544e+06\n",
            "------------------------------\n",
            "------------------------------\n",
            "           SALE PRICE                            ci95_hi       ci95_lo\n",
            "                 mean  count           std                            \n",
            "BOROUGH                                                               \n",
            "1        3.344642e+06  14374  2.414048e+07  3.739293e+06  2.949991e+06\n",
            "2        5.946771e+05   6994  2.793509e+06  6.601473e+05  5.292070e+05\n",
            "3        8.410834e+05  23843  3.951912e+06  8.912463e+05  7.909205e+05\n",
            "4        7.388827e+05  18410  3.227420e+06  7.855040e+05  6.922613e+05\n",
            "5        5.436113e+05   5986  1.905544e+06  5.918845e+05  4.953380e+05\n"
          ]
        }
      ]
    },
    {
      "cell_type": "markdown",
      "metadata": {
        "id": "EpWzb4UY9V6i"
      },
      "source": [
        "Make your Hypothesis Testing below\n",
        "\n",
        "Function below are graded function. (1 Points)"
      ]
    },
    {
      "cell_type": "code",
      "metadata": {
        "id": "SfzFKkkm9V6i",
        "colab": {
          "base_uri": "https://localhost:8080/"
        },
        "outputId": "51fd90a6-e7b3-47c5-bef3-9f4f50a32d17"
      },
      "source": [
        "# Write your function below\n",
        "\n",
        "# Graded-Funtion Begin\n",
        "sp_17 = df_sale[(df_sale[\"NEIGHBORHOOD\"] == 'MIDTOWN WEST')&(df_sale['YEAR'] == 2017)]\n",
        "sp_16 = df_sale[(df_sale[\"NEIGHBORHOOD\"] == 'MIDTOWN WEST')&(df_sale['YEAR'] == 2016)]\n",
        "\n",
        "n1 = len(mdw_17)\n",
        "spmean17 = sp_17[\"SALE PRICE\"].mean()\n",
        "spstd17 = sp_17[\"SALE PRICE\"].std()\n",
        "(n1,spmean17,spstd17)\n",
        "\n",
        "n2 = len(sp_16)\n",
        "spmean16 = sp_16[\"SALE PRICE\"].mean()\n",
        "spstd16 = sp_16[\"SALE PRICE\"].std()\n",
        "(n2,spmean16,spstd16)\n",
        "\n",
        "sm.stats.ztest(sp_17[\"SALE PRICE\"].dropna(),\n",
        "sp_16[\"SALE PRICE\"].dropna(),alternative='two-sided')\n",
        "\n",
        "\n",
        "\n",
        "\n",
        "# Graded-Funtion End"
      ],
      "execution_count": null,
      "outputs": [
        {
          "output_type": "execute_result",
          "data": {
            "text/plain": [
              "(5.394281150462744, 6.879842254594949e-08)"
            ]
          },
          "metadata": {},
          "execution_count": 67
        }
      ]
    },
    {
      "cell_type": "code",
      "metadata": {
        "id": "sB5f10KCiv1G"
      },
      "source": [
        ""
      ],
      "execution_count": null,
      "outputs": []
    },
    {
      "cell_type": "markdown",
      "metadata": {
        "id": "rULJtBPl9V6i"
      },
      "source": [
        "Write your final conclusion below.\n",
        "\n",
        "Your conclusion below are graded. (1 Points)"
      ]
    },
    {
      "cell_type": "markdown",
      "metadata": {
        "id": "W-snRINqivg_"
      },
      "source": [
        "p-value (6.879842254594949e-08) sangat kecil dari nilai alpha (0.05), kita dapat reject hipotesis bahwa rata-rata sale price selama 2 tahun adalah sama. Catatan, kita menggunakan alternative=\"two-sided\" dalam z-test karena disini kita memeriksan ketidaksamaan"
      ]
    }
  ]
}